{
 "cells": [
  {
   "cell_type": "code",
   "execution_count": null,
   "id": "28c94c58",
   "metadata": {},
   "outputs": [],
   "source": []
  },
  {
   "cell_type": "code",
   "execution_count": 19,
   "id": "49b7f9b4",
   "metadata": {},
   "outputs": [],
   "source": [
    "from snowflake.snowpark.session import Session\n",
    "import json"
   ]
  },
  {
   "cell_type": "markdown",
   "id": "7394415c",
   "metadata": {},
   "source": [
    "### Dont forget to add http://localhost:8888 to you webbrowser and allow popups for the url\n",
    "https://community.snowflake.com/s/article/Using-Single-Sign-On-SSO-with-Python-using-Jupyter-Notebook\n"
   ]
  },
  {
   "cell_type": "code",
   "execution_count": 20,
   "id": "f6dbc097",
   "metadata": {},
   "outputs": [],
   "source": [
    "con = {\n",
    "    \"user\": \"andrija.marcic\",\n",
    "    \"account\": \"SFCOGSOPS-SNOWHOUSE_AWS_US_WEST_2\",\n",
    "    \"authenticator\": \"externalbrowser\",\n",
    "    \"role\":\"\",\n",
    "    \"database\":\"\"\n",
    "}"
   ]
  },
  {
   "cell_type": "code",
   "execution_count": null,
   "id": "947b1e55",
   "metadata": {},
   "outputs": [],
   "source": [
    "session = Session.builder.configs(con).create()"
   ]
  },
  {
   "cell_type": "code",
   "execution_count": null,
   "id": "1519e83f",
   "metadata": {},
   "outputs": [],
   "source": [
    "session.get_fully_qualified_current_schema()"
   ]
  }
 ],
 "metadata": {
  "kernelspec": {
   "display_name": "Python 3 (ipykernel)",
   "language": "python",
   "name": "python3"
  },
  "language_info": {
   "codemirror_mode": {
    "name": "ipython",
    "version": 3
   },
   "file_extension": ".py",
   "mimetype": "text/x-python",
   "name": "python",
   "nbconvert_exporter": "python",
   "pygments_lexer": "ipython3",
   "version": "3.8.1"
  }
 },
 "nbformat": 4,
 "nbformat_minor": 5
}
