{
 "cells": [
  {
   "cell_type": "markdown",
   "id": "274d33e1",
   "metadata": {},
   "source": [
    "Use these instruction to achieve single signon (SSO) to Snowflake using Snowpark"
   ]
  },
  {
   "cell_type": "code",
   "execution_count": 19,
   "id": "49b7f9b4",
   "metadata": {},
   "outputs": [],
   "source": [
    "from snowflake.snowpark.session import Session\n",
    "import json"
   ]
  },
  {
   "cell_type": "markdown",
   "id": "2976f049",
   "metadata": {},
   "source": [
    "### Dont forget to add http://localhost:8888 to you webbrowser and allow popups for the url\n",
    "https://community.snowflake.com/s/article/Using-Single-Sign-On-SSO-with-Python-using-Jupyter-Notebook\n"
   ]
  },
  {
   "cell_type": "code",
   "execution_count": 31,
   "id": "f6dbc097",
   "metadata": {},
   "outputs": [],
   "source": [
    "con = {\n",
    "    \"user\": \"\",\n",
    "    \"account\": \"ORG-ACCOUNT\",\n",
    "    \"authenticator\": \"externalbrowser\",\n",
    "    \"role\":\"\",\n",
    "    \"database\":\"\",\n",
    "    \"schema\":\"\",\n",
    "}"
   ]
  },
  {
   "cell_type": "code",
   "execution_count": null,
   "id": "de5ada3f",
   "metadata": {},
   "outputs": [],
   "source": [
    "session = Session.builder.configs(con).create()"
   ]
  },
  {
   "cell_type": "code",
   "execution_count": null,
   "id": "4407cf91",
   "metadata": {},
   "outputs": [],
   "source": [
    "session.get_fully_qualified_current_schema()"
   ]
  },
  {
   "cell_type": "markdown",
   "id": "cf1a7db8",
   "metadata": {},
   "source": [
    "\n",
    "Going forward you might in your code want to switch to a different Role, Warehouse, Database or Schema while you are coding and you can do that with the following command:\n"
   ]
  },
  {
   "cell_type": "markdown",
   "id": "c9bbebe6",
   "metadata": {},
   "source": [
    "<ul>\n",
    "<li>session.use_role()</li>\n",
    "<li>session.use_schema()</li>\n",
    "<li>session.use_database()</li>\n",
    "<li>session.use_warehouse()</li>\n",
    "</ul>\n",
    " \n",
    "\n",
    "In my example that will be :\n",
    "\n",
    " \n",
    "\n",
    "<ul>\n",
    "<li>session.use_role('MYROLE')</li>\n",
    "<li>session.use_schema('MYSCHEMA')</li>\n",
    "<li>session.use_database('MYDB')</li>\n",
    "<li>session.use_warehouse('MYWH')</li>\n",
    "</ul>\n",
    " \n",
    "\n",
    "For example if I want to change my role to DEMOA i can run: \n",
    "session.use_role('DEMOA') \n",
    "\n",
    "To confirm that the role has been changed you can run \n",
    "session.get_current_role()\n",
    "\n",
    "The same thing goes for Warehouse, Database and Schema\n",
    "\n",
    "<li>session.use_schema('MYSCHEMA')</li>\n",
    "<li>session.use_database('MYDB')</li>\n",
    "<li>session.use_warehouse('MYWH')</li>\n",
    " \n",
    "\n",
    "Snowpark API Reference\n",
    "\n",
    "https://docs.snowflake.com/en/developer-guide/snowpark/reference/python/latest/index"
   ]
  },
  {
   "cell_type": "code",
   "execution_count": null,
   "id": "8b2582de",
   "metadata": {},
   "outputs": [],
   "source": []
  }
 ],
 "metadata": {
  "kernelspec": {
   "display_name": "Python 3 (ipykernel)",
   "language": "python",
   "name": "python3"
  },
  "language_info": {
   "codemirror_mode": {
    "name": "ipython",
    "version": 3
   },
   "file_extension": ".py",
   "mimetype": "text/x-python",
   "name": "python",
   "nbconvert_exporter": "python",
   "pygments_lexer": "ipython3",
   "version": "3.8.1"
  }
 },
 "nbformat": 4,
 "nbformat_minor": 5
}
