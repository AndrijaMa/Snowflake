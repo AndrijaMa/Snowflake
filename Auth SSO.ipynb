{
 "cells": [
  {
   "cell_type": "code",
   "execution_count": null,
   "id": "28c94c58",
   "metadata": {},
   "outputs": [],
   "source": [
    "##https://community.snowflake.com/s/article/Using-Single-Sign-On-SSO-with-Python-using-Jupyter-Notebook"
   ]
  },
  {
   "cell_type": "code",
   "execution_count": 53,
   "id": "49b7f9b4",
   "metadata": {},
   "outputs": [],
   "source": [
    "from snowflake.snowpark.session import Session\n",
    "import json"
   ]
  },
  {
   "cell_type": "code",
   "execution_count": 54,
   "id": "f6dbc097",
   "metadata": {},
   "outputs": [],
   "source": [
    "con = {\n",
    "    \"user\": \"\",\n",
    "    \"account\": \"\",\n",
    "    \"authenticator\": \"externalbrowser\",\n",
    "}"
   ]
  },
  {
   "cell_type": "code",
   "execution_count": null,
   "id": "491ca92a",
   "metadata": {},
   "outputs": [],
   "source": [
    "session = Session.builder.configs(con).create()"
   ]
  },
  {
   "cell_type": "code",
   "execution_count": null,
   "id": "05f9a14f",
   "metadata": {},
   "outputs": [],
   "source": [
    "session.get_fully_qualified_current_schema()"
   ]
  }
 ],
 "metadata": {
  "kernelspec": {
   "display_name": "Python 3 (ipykernel)",
   "language": "python",
   "name": "python3"
  },
  "language_info": {
   "codemirror_mode": {
    "name": "ipython",
    "version": 3
   },
   "file_extension": ".py",
   "mimetype": "text/x-python",
   "name": "python",
   "nbconvert_exporter": "python",
   "pygments_lexer": "ipython3",
   "version": "3.8.1"
  }
 },
 "nbformat": 4,
 "nbformat_minor": 5
}
