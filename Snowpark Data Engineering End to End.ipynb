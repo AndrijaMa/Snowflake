{
 "cells": [
  {
   "cell_type": "markdown",
   "id": "68300cb4",
   "metadata": {},
   "source": [
    "# Snowpark Data Engineering\n",
    "<br>\n",
    "<a href=\"https://docs.snowflake.com/en/developer-guide/snowpark/reference/python/latest/index\">Snowpark API Reference (Python)</a>\n",
    "<br>\n",
    "<br>\n",
    "<a href=\"https://app.snowflake.com/\">Snowflake Service</a>\n",
    "\n"
   ]
  },
  {
   "cell_type": "code",
   "execution_count": 183,
   "id": "0d7a46cd",
   "metadata": {},
   "outputs": [],
   "source": [
    "from snowflake.snowpark.session import Session\n",
    "#from snowflake.snowpark import functions as F\n",
    "from snowflake.snowpark.functions import upper, col, month, year, sum, sproc,count\n",
    "\n",
    "from snowflake.snowpark.version import VERSION\n",
    "\n",
    "# Misc\n",
    "import sys\n",
    "import json\n",
    "import logging \n",
    "import numpy as np\n",
    "import pandas as pd\n",
    "logger = logging.getLogger(\"snowflake.snowpark.session\")\n",
    "logger.setLevel(logging.ERROR)"
   ]
  },
  {
   "cell_type": "markdown",
   "id": "3c26c813",
   "metadata": {},
   "source": [
    "### Establish Secure Connection to Snowflake"
   ]
  },
  {
   "cell_type": "code",
   "execution_count": 184,
   "id": "f5391d22",
   "metadata": {},
   "outputs": [],
   "source": [
    "# Create Snowflake Session object\n",
    "connection_parameters = json.load(open('Creds/prod.json'))\n",
    "session = Session.builder.configs(connection_parameters).create()\n",
    "session.sql_simplifier_enabled = True"
   ]
  },
  {
   "cell_type": "markdown",
   "id": "e5cdd993",
   "metadata": {},
   "source": [
    "### Load Aggregated Campaign Spend Data from Snowflake table into Snowpark DataFrame\n"
   ]
  },
  {
   "cell_type": "code",
   "execution_count": 186,
   "id": "b4e6e0a2",
   "metadata": {
    "scrolled": true
   },
   "outputs": [
    {
     "name": "stdout",
     "output_type": "stream",
     "text": [
      "------------------------------------------------------------------------------------------------------\n",
      "|\"CAMPAIGN\"              |\"CHANNEL\"      |\"DATE\"      |\"TOTAL_CLICKS\"  |\"TOTAL_COST\"  |\"ADS_SERVED\"  |\n",
      "------------------------------------------------------------------------------------------------------\n",
      "|winter_sports           |video          |2012-06-03  |213             |1762          |426           |\n",
      "|sports_across_cultures  |video          |2012-06-02  |87              |678           |157           |\n",
      "|building_community      |search_engine  |2012-06-03  |66              |471           |134           |\n",
      "|world_series            |social_media   |2017-12-28  |72              |591           |149           |\n",
      "|winter_sports           |email          |2018-02-09  |252             |1841          |473           |\n",
      "|spring_break            |video          |2017-11-14  |162             |1155          |304           |\n",
      "|nba_finals              |email          |2017-11-22  |68              |480           |134           |\n",
      "|winter_sports           |social_media   |2018-03-10  |227             |1797          |454           |\n",
      "|spring_break            |search_engine  |2017-08-30  |150             |1226          |302           |\n",
      "|uefa                    |video          |2017-09-30  |81              |701           |168           |\n",
      "------------------------------------------------------------------------------------------------------\n",
      "\n"
     ]
    }
   ],
   "source": [
    "\n",
    "#Conect to a Snowflake Table\n",
    "CAMPAIGN_SPEND = session.table(\"DEMODB.DE_SCHEMA.CAMPAIGN_SPEND\")\n",
    "CAMPAIGN_SPEND.show()"
   ]
  },
  {
   "cell_type": "code",
   "execution_count": 187,
   "id": "a4b194cb",
   "metadata": {},
   "outputs": [
    {
     "data": {
      "text/plain": [
       "{'queries': ['SELECT  *  FROM (DEMODB.DE_SCHEMA.CAMPAIGN_SPEND)'],\n",
       " 'post_actions': []}"
      ]
     },
     "execution_count": 187,
     "metadata": {},
     "output_type": "execute_result"
    }
   ],
   "source": [
    "CAMPAIGN_SPEND.queries"
   ]
  },
  {
   "cell_type": "code",
   "execution_count": 188,
   "id": "54a4c8cc",
   "metadata": {},
   "outputs": [
    {
     "data": {
      "text/plain": [
       "['CAMPAIGN', 'CHANNEL', 'DATE', 'TOTAL_CLICKS', 'TOTAL_COST', 'ADS_SERVED']"
      ]
     },
     "execution_count": 188,
     "metadata": {},
     "output_type": "execute_result"
    }
   ],
   "source": [
    "CAMPAIGN_SPEND.columns"
   ]
  },
  {
   "cell_type": "code",
   "execution_count": 189,
   "id": "33fb3dee",
   "metadata": {},
   "outputs": [
    {
     "name": "stdout",
     "output_type": "stream",
     "text": [
      "------------------------------------------------------------------------------------------------------------\n",
      "|\"SUMMARY\"  |\"CAMPAIGN\"          |\"CHANNEL\"  |\"TOTAL_CLICKS\"     |\"TOTAL_COST\"        |\"ADS_SERVED\"        |\n",
      "------------------------------------------------------------------------------------------------------------\n",
      "|count      |293120              |293120     |293120.0           |293120.0            |293120.0            |\n",
      "|mean       |NULL                |NULL       |108.004889         |839.886333          |215.97909           |\n",
      "|min        |building_community  |email      |35.0               |248.0               |72.0                |\n",
      "|max        |youth_on_course     |video      |295.0              |2357.0              |591.0               |\n",
      "|stddev     |NULL                |NULL       |54.39864871483482  |420.97817111579553  |107.73121465480652  |\n",
      "------------------------------------------------------------------------------------------------------------\n",
      "\n"
     ]
    }
   ],
   "source": [
    "CAMPAIGN_SPEND.describe().show()"
   ]
  },
  {
   "cell_type": "code",
   "execution_count": 190,
   "id": "677a2bc9",
   "metadata": {},
   "outputs": [],
   "source": [
    "CAMPAIGN_SPEND_PD =  CAMPAIGN_SPEND.to_pandas() "
   ]
  },
  {
   "cell_type": "code",
   "execution_count": 194,
   "id": "88b93fe7",
   "metadata": {},
   "outputs": [
    {
     "data": {
      "text/html": [
       "<div>\n",
       "<style scoped>\n",
       "    .dataframe tbody tr th:only-of-type {\n",
       "        vertical-align: middle;\n",
       "    }\n",
       "\n",
       "    .dataframe tbody tr th {\n",
       "        vertical-align: top;\n",
       "    }\n",
       "\n",
       "    .dataframe thead th {\n",
       "        text-align: right;\n",
       "    }\n",
       "</style>\n",
       "<table border=\"1\" class=\"dataframe\">\n",
       "  <thead>\n",
       "    <tr style=\"text-align: right;\">\n",
       "      <th></th>\n",
       "      <th>CAMPAIGN</th>\n",
       "      <th>CHANNEL</th>\n",
       "      <th>DATE</th>\n",
       "      <th>TOTAL_CLICKS</th>\n",
       "      <th>TOTAL_COST</th>\n",
       "      <th>ADS_SERVED</th>\n",
       "    </tr>\n",
       "  </thead>\n",
       "  <tbody>\n",
       "    <tr>\n",
       "      <th>0</th>\n",
       "      <td>winter_sports</td>\n",
       "      <td>video</td>\n",
       "      <td>2012-06-03</td>\n",
       "      <td>213</td>\n",
       "      <td>1762</td>\n",
       "      <td>426</td>\n",
       "    </tr>\n",
       "    <tr>\n",
       "      <th>1</th>\n",
       "      <td>sports_across_cultures</td>\n",
       "      <td>video</td>\n",
       "      <td>2012-06-02</td>\n",
       "      <td>87</td>\n",
       "      <td>678</td>\n",
       "      <td>157</td>\n",
       "    </tr>\n",
       "    <tr>\n",
       "      <th>2</th>\n",
       "      <td>building_community</td>\n",
       "      <td>search_engine</td>\n",
       "      <td>2012-06-03</td>\n",
       "      <td>66</td>\n",
       "      <td>471</td>\n",
       "      <td>134</td>\n",
       "    </tr>\n",
       "    <tr>\n",
       "      <th>3</th>\n",
       "      <td>world_series</td>\n",
       "      <td>social_media</td>\n",
       "      <td>2017-12-28</td>\n",
       "      <td>72</td>\n",
       "      <td>591</td>\n",
       "      <td>149</td>\n",
       "    </tr>\n",
       "    <tr>\n",
       "      <th>4</th>\n",
       "      <td>winter_sports</td>\n",
       "      <td>email</td>\n",
       "      <td>2018-02-09</td>\n",
       "      <td>252</td>\n",
       "      <td>1841</td>\n",
       "      <td>473</td>\n",
       "    </tr>\n",
       "    <tr>\n",
       "      <th>5</th>\n",
       "      <td>spring_break</td>\n",
       "      <td>video</td>\n",
       "      <td>2017-11-14</td>\n",
       "      <td>162</td>\n",
       "      <td>1155</td>\n",
       "      <td>304</td>\n",
       "    </tr>\n",
       "    <tr>\n",
       "      <th>6</th>\n",
       "      <td>nba_finals</td>\n",
       "      <td>email</td>\n",
       "      <td>2017-11-22</td>\n",
       "      <td>68</td>\n",
       "      <td>480</td>\n",
       "      <td>134</td>\n",
       "    </tr>\n",
       "    <tr>\n",
       "      <th>7</th>\n",
       "      <td>winter_sports</td>\n",
       "      <td>social_media</td>\n",
       "      <td>2018-03-10</td>\n",
       "      <td>227</td>\n",
       "      <td>1797</td>\n",
       "      <td>454</td>\n",
       "    </tr>\n",
       "    <tr>\n",
       "      <th>8</th>\n",
       "      <td>spring_break</td>\n",
       "      <td>search_engine</td>\n",
       "      <td>2017-08-30</td>\n",
       "      <td>150</td>\n",
       "      <td>1226</td>\n",
       "      <td>302</td>\n",
       "    </tr>\n",
       "    <tr>\n",
       "      <th>9</th>\n",
       "      <td>uefa</td>\n",
       "      <td>video</td>\n",
       "      <td>2017-09-30</td>\n",
       "      <td>81</td>\n",
       "      <td>701</td>\n",
       "      <td>168</td>\n",
       "    </tr>\n",
       "  </tbody>\n",
       "</table>\n",
       "</div>"
      ],
      "text/plain": [
       "                 CAMPAIGN        CHANNEL        DATE  TOTAL_CLICKS  \\\n",
       "0           winter_sports          video  2012-06-03           213   \n",
       "1  sports_across_cultures          video  2012-06-02            87   \n",
       "2      building_community  search_engine  2012-06-03            66   \n",
       "3            world_series   social_media  2017-12-28            72   \n",
       "4           winter_sports          email  2018-02-09           252   \n",
       "5            spring_break          video  2017-11-14           162   \n",
       "6              nba_finals          email  2017-11-22            68   \n",
       "7           winter_sports   social_media  2018-03-10           227   \n",
       "8            spring_break  search_engine  2017-08-30           150   \n",
       "9                    uefa          video  2017-09-30            81   \n",
       "\n",
       "   TOTAL_COST  ADS_SERVED  \n",
       "0        1762         426  \n",
       "1         678         157  \n",
       "2         471         134  \n",
       "3         591         149  \n",
       "4        1841         473  \n",
       "5        1155         304  \n",
       "6         480         134  \n",
       "7        1797         454  \n",
       "8        1226         302  \n",
       "9         701         168  "
      ]
     },
     "execution_count": 194,
     "metadata": {},
     "output_type": "execute_result"
    }
   ],
   "source": [
    "CAMPAIGN_SPEND_PD.head(10)"
   ]
  },
  {
   "cell_type": "markdown",
   "id": "56f8fe46",
   "metadata": {},
   "source": [
    "##### Memory used Snowpark DF vs Pandas DF\n",
    "<br>\n",
    "<br>\n",
    " \n",
    "  \n"
   ]
  },
  {
   "cell_type": "code",
   "execution_count": 195,
   "id": "cd56a9b6",
   "metadata": {},
   "outputs": [
    {
     "name": "stdout",
     "output_type": "stream",
     "text": [
      "Size in MB of Pandas DataFrame in Memory:\n",
      " 50.88\n",
      "Size in MB of Snowpark DataFrame in Memory:\n",
      " 0.0\n"
     ]
    }
   ],
   "source": [
    "print('Size in MB of Pandas DataFrame in Memory:\\n', np.round(sys.getsizeof(CAMPAIGN_SPEND_PD) / (1024.0**2), 2))\n",
    "print('Size in MB of Snowpark DataFrame in Memory:\\n', np.round(sys.getsizeof(CAMPAIGN_SPEND) / (1024.0**2), 2))"
   ]
  },
  {
   "cell_type": "code",
   "execution_count": 196,
   "id": "8522e113",
   "metadata": {},
   "outputs": [
    {
     "name": "stdout",
     "output_type": "stream",
     "text": [
      "------------------------------------------------------------------------------------------------------\n",
      "|\"CAMPAIGN\"              |\"CHANNEL\"      |\"DATE\"      |\"TOTAL_CLICKS\"  |\"TOTAL_COST\"  |\"ADS_SERVED\"  |\n",
      "------------------------------------------------------------------------------------------------------\n",
      "|winter_sports           |video          |2012-06-03  |213             |1762          |426           |\n",
      "|sports_across_cultures  |video          |2012-06-02  |87              |678           |157           |\n",
      "|building_community      |search_engine  |2012-06-03  |66              |471           |134           |\n",
      "|world_series            |social_media   |2017-12-28  |72              |591           |149           |\n",
      "|winter_sports           |email          |2018-02-09  |252             |1841          |473           |\n",
      "|spring_break            |video          |2017-11-14  |162             |1155          |304           |\n",
      "|nba_finals              |email          |2017-11-22  |68              |480           |134           |\n",
      "|winter_sports           |social_media   |2018-03-10  |227             |1797          |454           |\n",
      "|spring_break            |search_engine  |2017-08-30  |150             |1226          |302           |\n",
      "|uefa                    |video          |2017-09-30  |81              |701           |168           |\n",
      "------------------------------------------------------------------------------------------------------\n",
      "\n"
     ]
    }
   ],
   "source": [
    "session.sql(\"SELECT * FROM CAMPAIGN_SPEND LIMIT 10\").show()"
   ]
  },
  {
   "cell_type": "markdown",
   "id": "387741ce",
   "metadata": {},
   "source": [
    "## FILTER"
   ]
  },
  {
   "cell_type": "markdown",
   "id": "35d5951d",
   "metadata": {},
   "source": [
    "### Filter on a CAMPAIGN (UEFA)"
   ]
  },
  {
   "cell_type": "code",
   "execution_count": 197,
   "id": "3862e0cf",
   "metadata": {
    "scrolled": true
   },
   "outputs": [
    {
     "name": "stdout",
     "output_type": "stream",
     "text": [
      "------------------------------------------------------------------------------------------\n",
      "|\"CAMPAIGN\"  |\"CHANNEL\"      |\"DATE\"      |\"TOTAL_CLICKS\"  |\"TOTAL_COST\"  |\"ADS_SERVED\"  |\n",
      "------------------------------------------------------------------------------------------\n",
      "|uefa        |video          |2017-09-30  |81              |701           |168           |\n",
      "|uefa        |video          |2018-01-23  |73              |545           |141           |\n",
      "|uefa        |social_media   |2016-09-28  |67              |467           |127           |\n",
      "|uefa        |social_media   |2016-12-11  |93              |656           |161           |\n",
      "|uefa        |social_media   |2016-06-08  |61              |503           |120           |\n",
      "|uefa        |search_engine  |2017-08-25  |69              |592           |149           |\n",
      "|uefa        |search_engine  |2017-01-27  |69              |512           |135           |\n",
      "|uefa        |email          |2017-07-15  |76              |593           |134           |\n",
      "|uefa        |social_media   |2015-11-27  |76              |579           |138           |\n",
      "|uefa        |social_media   |2015-08-19  |72              |530           |139           |\n",
      "------------------------------------------------------------------------------------------\n",
      "\n"
     ]
    }
   ],
   "source": [
    "\n",
    "CAMPAIGN_SPEND_UEFA = CAMPAIGN_SPEND.filter(col(\"CAMPAIGN\") == \"uefa\")\n",
    "CAMPAIGN_SPEND_UEFA.show()"
   ]
  },
  {
   "cell_type": "markdown",
   "id": "aa5252d3",
   "metadata": {},
   "source": [
    "### Filter on CAMPAIGN (UEFA) and CHANNEL (VIDEO)"
   ]
  },
  {
   "cell_type": "code",
   "execution_count": 198,
   "id": "ff1c3308",
   "metadata": {
    "scrolled": true
   },
   "outputs": [
    {
     "name": "stdout",
     "output_type": "stream",
     "text": [
      "--------------------------------------------------------------------------------------\n",
      "|\"CAMPAIGN\"  |\"CHANNEL\"  |\"DATE\"      |\"TOTAL_CLICKS\"  |\"TOTAL_COST\"  |\"ADS_SERVED\"  |\n",
      "--------------------------------------------------------------------------------------\n",
      "|uefa        |video      |2017-09-30  |81              |701           |168           |\n",
      "|uefa        |video      |2018-01-23  |73              |545           |141           |\n",
      "|uefa        |video      |2012-06-15  |72              |566           |143           |\n",
      "|uefa        |video      |2012-05-31  |70              |573           |146           |\n",
      "|uefa        |video      |2012-10-23  |76              |584           |150           |\n",
      "|uefa        |video      |2013-06-20  |68              |575           |138           |\n",
      "|uefa        |video      |2016-03-14  |66              |612           |136           |\n",
      "|uefa        |video      |2021-11-23  |82              |603           |159           |\n",
      "|uefa        |video      |2018-01-22  |77              |531           |137           |\n",
      "|uefa        |video      |2012-06-14  |71              |556           |146           |\n",
      "--------------------------------------------------------------------------------------\n",
      "\n"
     ]
    }
   ],
   "source": [
    "#Filter on a channel\n",
    "CAMPAIGN_SPEND_UEFA_VIDEO = CAMPAIGN_SPEND.filter((col(\"CAMPAIGN\") == \"uefa\") & (col(\"channel\")== \"video\"))\n",
    "CAMPAIGN_SPEND_UEFA_VIDEO.show()"
   ]
  },
  {
   "cell_type": "code",
   "execution_count": 199,
   "id": "e46478b2",
   "metadata": {},
   "outputs": [
    {
     "name": "stdout",
     "output_type": "stream",
     "text": [
      "--------------------------------------------------------------------------------------\n",
      "|\"CAMPAIGN\"  |\"CHANNEL\"  |\"DATE\"      |\"TOTAL_CLICKS\"  |\"TOTAL_COST\"  |\"ADS_SERVED\"  |\n",
      "--------------------------------------------------------------------------------------\n",
      "|uefa        |video      |2017-09-30  |81              |701           |168           |\n",
      "|uefa        |video      |2018-01-23  |73              |545           |141           |\n",
      "|uefa        |video      |2012-06-15  |72              |566           |143           |\n",
      "|uefa        |video      |2012-05-31  |70              |573           |146           |\n",
      "|uefa        |video      |2012-10-23  |76              |584           |150           |\n",
      "|uefa        |video      |2013-06-20  |68              |575           |138           |\n",
      "|uefa        |video      |2016-03-14  |66              |612           |136           |\n",
      "|uefa        |video      |2021-11-23  |82              |603           |159           |\n",
      "|uefa        |video      |2018-01-22  |77              |531           |137           |\n",
      "|uefa        |video      |2012-06-14  |71              |556           |146           |\n",
      "--------------------------------------------------------------------------------------\n",
      "\n"
     ]
    }
   ],
   "source": [
    "session.sql(\"SELECT * FROM CAMPAIGN_SPEND WHERE CHANNEL = 'video' AND CAMPAIGN = 'uefa' LIMIT 10\").show()"
   ]
  },
  {
   "cell_type": "code",
   "execution_count": 200,
   "id": "87e7465b",
   "metadata": {
    "scrolled": true
   },
   "outputs": [
    {
     "name": "stdout",
     "output_type": "stream",
     "text": [
      "--------------------------------------------------------------------------------------\n",
      "|\"CAMPAIGN\"  |\"CHANNEL\"  |\"DATE\"      |\"TOTAL_CLICKS\"  |\"TOTAL_COST\"  |\"ADS_SERVED\"  |\n",
      "--------------------------------------------------------------------------------------\n",
      "|uefa        |video      |2017-09-30  |81              |701           |168           |\n",
      "|uefa        |video      |2018-01-23  |73              |545           |141           |\n",
      "|uefa        |video      |2012-06-15  |72              |566           |143           |\n",
      "|uefa        |video      |2012-05-31  |70              |573           |146           |\n",
      "|uefa        |video      |2012-10-23  |76              |584           |150           |\n",
      "|uefa        |video      |2013-06-20  |68              |575           |138           |\n",
      "|uefa        |video      |2016-03-14  |66              |612           |136           |\n",
      "|uefa        |video      |2021-11-23  |82              |603           |159           |\n",
      "|uefa        |video      |2018-01-22  |77              |531           |137           |\n",
      "|uefa        |video      |2012-06-14  |71              |556           |146           |\n",
      "--------------------------------------------------------------------------------------\n",
      "\n"
     ]
    }
   ],
   "source": [
    "#Filter on a column name\n",
    "CAMPAIGN_SPEND_UEFA_VIDEO = CAMPAIGN_SPEND.filter(col(\"CHANNEL\") == \"video\").filter(col(\"CAMPAIGN\")== \"uefa\")\n",
    "CAMPAIGN_SPEND_UEFA_VIDEO.show()"
   ]
  },
  {
   "cell_type": "markdown",
   "id": "061644f3",
   "metadata": {},
   "source": [
    "## SORT"
   ]
  },
  {
   "cell_type": "markdown",
   "id": "02c79701",
   "metadata": {},
   "source": [
    "### Sort by DATE (Descending)"
   ]
  },
  {
   "cell_type": "code",
   "execution_count": 201,
   "id": "adcbaf47",
   "metadata": {
    "scrolled": true
   },
   "outputs": [
    {
     "name": "stdout",
     "output_type": "stream",
     "text": [
      "------------------------------------------------------------------------------------------\n",
      "|\"CAMPAIGN\"  |\"CHANNEL\"      |\"DATE\"      |\"TOTAL_CLICKS\"  |\"TOTAL_COST\"  |\"ADS_SERVED\"  |\n",
      "------------------------------------------------------------------------------------------\n",
      "|uefa        |social_media   |2022-05-12  |43              |354           |90            |\n",
      "|uefa        |email          |2022-05-12  |53              |378           |86            |\n",
      "|uefa        |search_engine  |2022-05-12  |45              |368           |92            |\n",
      "|uefa        |video          |2022-05-12  |44              |339           |95            |\n",
      "|uefa        |video          |2022-05-11  |65              |553           |146           |\n",
      "|uefa        |search_engine  |2022-05-11  |68              |474           |132           |\n",
      "|uefa        |email          |2022-05-11  |70              |529           |147           |\n",
      "|uefa        |social_media   |2022-05-11  |62              |480           |128           |\n",
      "|uefa        |email          |2022-05-10  |55              |553           |130           |\n",
      "|uefa        |video          |2022-05-10  |64              |542           |136           |\n",
      "------------------------------------------------------------------------------------------\n",
      "\n"
     ]
    }
   ],
   "source": [
    "#Sort by Date\n",
    "CAMPAIGN_SPEND_Sort = CAMPAIGN_SPEND_UEFA.sort(col(\"DATE\").desc())\n",
    "CAMPAIGN_SPEND_Sort.show()\n"
   ]
  },
  {
   "cell_type": "markdown",
   "id": "c227d896",
   "metadata": {},
   "source": [
    "## SELECT"
   ]
  },
  {
   "cell_type": "markdown",
   "id": "e8f3cdc1",
   "metadata": {},
   "source": [
    "### SELECT Columns to use in my dataframe"
   ]
  },
  {
   "cell_type": "code",
   "execution_count": 203,
   "id": "0843de4d",
   "metadata": {},
   "outputs": [
    {
     "name": "stdout",
     "output_type": "stream",
     "text": [
      "----------------------------------------------------------\n",
      "|\"DATE\"      |\"CAMPAIGN\"  |\"CHANNEL\"      |\"TOTAL_COST\"  |\n",
      "----------------------------------------------------------\n",
      "|2022-05-12  |uefa        |search_engine  |368           |\n",
      "|2022-05-12  |uefa        |social_media   |354           |\n",
      "|2022-05-12  |uefa        |email          |378           |\n",
      "|2022-05-12  |uefa        |video          |339           |\n",
      "|2022-05-11  |uefa        |email          |529           |\n",
      "|2022-05-11  |uefa        |social_media   |480           |\n",
      "|2022-05-11  |uefa        |video          |553           |\n",
      "|2022-05-11  |uefa        |search_engine  |474           |\n",
      "|2022-05-10  |uefa        |social_media   |543           |\n",
      "|2022-05-10  |uefa        |search_engine  |653           |\n",
      "----------------------------------------------------------\n",
      "\n"
     ]
    }
   ],
   "source": [
    "CAMPAIGN_SPEND_Select = CAMPAIGN_SPEND_Sort.select(\"DATE\",\"CAMPAIGN\",\"CHANNEL\", \"TOTAL_COST\")\n",
    "CAMPAIGN_SPEND_Select.show(10)"
   ]
  },
  {
   "cell_type": "markdown",
   "id": "17ed5b41",
   "metadata": {},
   "source": [
    "### Spend per Year and Month "
   ]
  },
  {
   "cell_type": "code",
   "execution_count": 204,
   "id": "368f62fb",
   "metadata": {},
   "outputs": [
    {
     "name": "stdout",
     "output_type": "stream",
     "text": [
      "-----------------------------------\n",
      "|\"YEAR\"  |\"MONTH\"  |\"TOTAL_COST\"  |\n",
      "-----------------------------------\n",
      "|2017    |9        |67975         |\n",
      "|2018    |1        |69439         |\n",
      "|2016    |9        |67095         |\n",
      "|2016    |12       |68910         |\n",
      "|2016    |6        |67837         |\n",
      "|2017    |8        |69424         |\n",
      "|2017    |1        |69430         |\n",
      "|2017    |7        |69349         |\n",
      "|2015    |11       |67815         |\n",
      "|2015    |8        |68745         |\n",
      "-----------------------------------\n",
      "\n"
     ]
    }
   ],
   "source": [
    "#Select, Sort and do datepart\n",
    "TOTAL_SPEND_PER_MONTH = CAMPAIGN_SPEND_UEFA\\\n",
    "    .select(year(col(\"DATE\")).alias(\"YEAR\"),month( col(\"DATE\")).alias(\"MONTH\"),\"TOTAL_COST\")\\\n",
    "    .group_by('YEAR', 'MONTH')\\\n",
    "    .agg(sum('TOTAL_COST').as_('TOTAL_COST'))\n",
    "    \n",
    "TOTAL_SPEND_PER_MONTH.show(10)"
   ]
  },
  {
   "cell_type": "markdown",
   "id": "73b65492",
   "metadata": {},
   "source": [
    "### Total spend per Year and Month per Channel \n",
    "##### SELECT, AGGREGATE, DATE PART (MONTH & YEAR), SORT"
   ]
  },
  {
   "cell_type": "code",
   "execution_count": 205,
   "id": "8ea7d825",
   "metadata": {
    "scrolled": true
   },
   "outputs": [
    {
     "name": "stdout",
     "output_type": "stream",
     "text": [
      "---------------------------------------------------\n",
      "|\"YEAR\"  |\"MONTH\"  |\"CHANNEL\"      |\"TOTAL_COST\"  |\n",
      "---------------------------------------------------\n",
      "|2012    |5        |social_media   |17224         |\n",
      "|2012    |5        |search_engine  |17212         |\n",
      "|2012    |5        |video          |17167         |\n",
      "|2012    |5        |email          |17622         |\n",
      "|2012    |6        |email          |17150         |\n",
      "|2012    |6        |social_media   |16948         |\n",
      "|2012    |6        |search_engine  |16936         |\n",
      "|2012    |6        |video          |16629         |\n",
      "|2012    |7        |video          |17394         |\n",
      "|2012    |7        |email          |17565         |\n",
      "---------------------------------------------------\n",
      "\n"
     ]
    }
   ],
   "source": [
    "TOTAL_SPEND_PER_MONTH_PER_CHANNEL = CAMPAIGN_SPEND_UEFA.\\\n",
    "    select(year(col(\"DATE\")).alias(\"YEAR\"),month( col(\"DATE\")).alias(\"MONTH\"),\"CHANNEL\",\"TOTAL_COST\")\\\n",
    "    .group_by('YEAR', 'MONTH','CHANNEL')\\\n",
    "    .agg(sum('TOTAL_COST').as_('TOTAL_COST'))\\\n",
    "    .sort(\"YEAR\",\"MONTH\")\n",
    "    \n",
    "TOTAL_SPEND_PER_MONTH_PER_CHANNEL.show(10)"
   ]
  },
  {
   "cell_type": "markdown",
   "id": "9442bcd4",
   "metadata": {},
   "source": [
    "### Pivot on Channel: Total Spend Across All Channels"
   ]
  },
  {
   "cell_type": "code",
   "execution_count": 206,
   "id": "2c03ed07",
   "metadata": {
    "scrolled": true
   },
   "outputs": [
    {
     "name": "stdout",
     "output_type": "stream",
     "text": [
      "-----------------------------------------------------------------------------------\n",
      "|\"YEAR\"  |\"MONTH\"  |\"'search_engine'\"  |\"'social_media'\"  |\"'video'\"  |\"'email'\"  |\n",
      "-----------------------------------------------------------------------------------\n",
      "|2012    |5        |17212              |17224             |17167      |17622      |\n",
      "|2012    |6        |16936              |16948             |16629      |17150      |\n",
      "|2012    |7        |17508              |17986             |17394      |17565      |\n",
      "|2012    |8        |17551              |17197             |17725      |17594      |\n",
      "|2012    |9        |16970              |16682             |17273      |17006      |\n",
      "|2012    |10       |16997              |17460             |17337      |17624      |\n",
      "|2012    |11       |16835              |16644             |16447      |17169      |\n",
      "|2012    |12       |17764              |17720             |17061      |17985      |\n",
      "|2013    |1        |17661              |17238             |17406      |17202      |\n",
      "|2013    |2        |15733              |16032             |14995      |15339      |\n",
      "-----------------------------------------------------------------------------------\n",
      "\n"
     ]
    }
   ],
   "source": [
    "TOTAL_SPEND_PER_MONTH = TOTAL_SPEND_PER_MONTH_PER_CHANNEL.pivot(\n",
    "    'CHANNEL',['search_engine','social_media','video','email']).sum('TOTAL_COST').sort('YEAR','MONTH')\n",
    "TOTAL_SPEND_PER_MONTH_PER = TOTAL_SPEND_PER_MONTH_PER.select(\n",
    "    col(\"YEAR\"),\n",
    "    col(\"MONTH\"),\n",
    "    col(\"'search_engine'\").as_(\"SEARCH_ENGINE\"),\n",
    "    col(\"'social_media'\").as_(\"SOCIAL_MEDIA\"),\n",
    "    col(\"'video'\").as_(\"VIDEO\"),\n",
    "    col(\"'email'\").as_(\"EMAIL\")\n",
    ")\n",
    "TOTAL_SPEND_PER_MONTH.show()"
   ]
  },
  {
   "cell_type": "markdown",
   "id": "0b1a191d",
   "metadata": {},
   "source": [
    "## Save Transformed Data into Snowflake Table"
   ]
  },
  {
   "cell_type": "code",
   "execution_count": 207,
   "id": "6a476261",
   "metadata": {},
   "outputs": [],
   "source": [
    "TOTAL_SPEND_PER_MONTH.write.mode(\"overwrite\").save_as_table(\"SPEND_PER_MONTH\")"
   ]
  },
  {
   "cell_type": "markdown",
   "id": "80d3bab6",
   "metadata": {},
   "source": [
    "## Create a View into a Snowflake Table"
   ]
  },
  {
   "cell_type": "code",
   "execution_count": 208,
   "id": "9551a943",
   "metadata": {},
   "outputs": [
    {
     "data": {
      "text/plain": [
       "[Row(status='View SPEND_PER_MONTH_VIEW successfully created.')]"
      ]
     },
     "execution_count": 208,
     "metadata": {},
     "output_type": "execute_result"
    }
   ],
   "source": [
    "TOTAL_SPEND_PER_MONTH.createOrReplaceView(\"SPEND_PER_MONTH_view\")"
   ]
  },
  {
   "cell_type": "markdown",
   "id": "4eeb4737",
   "metadata": {},
   "source": [
    "### End to end transformation"
   ]
  },
  {
   "cell_type": "code",
   "execution_count": 209,
   "id": "3ced1a2e",
   "metadata": {},
   "outputs": [
    {
     "name": "stdout",
     "output_type": "stream",
     "text": [
      "---------------------------------------------------------------------------\n",
      "|\"YEAR\"  |\"MONTH\"  |\"SEARCH_ENGINE\"  |\"SOCIAL_MEDIA\"  |\"VIDEO\"  |\"EMAIL\"  |\n",
      "---------------------------------------------------------------------------\n",
      "|2012    |5        |516431           |517618          |516729   |517208   |\n",
      "|2012    |6        |506497           |504679          |501098   |501947   |\n",
      "|2012    |7        |522780           |521395          |522762   |518405   |\n",
      "|2012    |8        |519959           |520537          |520685   |521584   |\n",
      "|2012    |9        |507211           |507404          |511364   |507363   |\n",
      "|2012    |10       |518942           |520863          |522768   |519950   |\n",
      "|2012    |11       |505715           |505221          |505292   |503748   |\n",
      "|2012    |12       |520148           |520711          |521427   |520724   |\n",
      "|2013    |1        |522151           |518635          |520583   |521167   |\n",
      "|2013    |2        |467736           |474679          |469856   |469784   |\n",
      "---------------------------------------------------------------------------\n",
      "\n"
     ]
    }
   ],
   "source": [
    "#End to end transformation\n",
    "snow_df_spend_t = session.table('DEMODB.DE_SCHEMA.CAMPAIGN_SPEND')\n",
    "\n",
    "    # Transform the data so we can see total cost per year/month per channel using group_by() and agg() Snowpark DataFrame functions\n",
    "snow_df_spend_per_channel_t = snow_df_spend_t.group_by(year('DATE'), month('DATE'),'CHANNEL').agg(sum('TOTAL_COST').as_('TOTAL_COST')).\\\n",
    "  with_column_renamed('\"YEAR(DATE)\"',\"YEAR\").with_column_renamed(\"MONTH(DATE)\",\"MONTH\").sort('YEAR','MONTH')\n",
    "\n",
    "# Transform the data so that each row will represent total cost across all channels per year/month using pivot() and sum() Snowpark DataFrame functions\n",
    "snow_df_spend_per_month_t = snow_df_spend_per_channel_t.pivot('CHANNEL',['search_engine','social_media','video','email']).sum('TOTAL_COST').sort('YEAR','MONTH')\n",
    "snow_df_spend_per_month_t = snow_df_spend_per_month_t.select(\n",
    "  col(\"YEAR\"),\n",
    "  col(\"MONTH\"),\n",
    "  col(\"'search_engine'\").as_(\"SEARCH_ENGINE\"),\n",
    "  col(\"'social_media'\").as_(\"SOCIAL_MEDIA\"),\n",
    "  col(\"'video'\").as_(\"VIDEO\"),\n",
    "  col(\"'email'\").as_(\"EMAIL\")\n",
    ")\n",
    "# Save transformed data\n",
    "snow_df_spend_per_month_t.show()"
   ]
  },
  {
   "cell_type": "markdown",
   "id": "86aa5619",
   "metadata": {},
   "source": [
    "### Export to stage\n",
    "Write the table to a cvs file on a external stage.<br>\n",
    "<a href=\"https://docs.snowflake.com/en/developer-guide/snowpark/reference/python/latest/api/snowflake.snowpark.DataFrameWriter.copy_into_location\">Copy_into_location api"
   ]
  },
  {
   "cell_type": "code",
   "execution_count": 212,
   "id": "7fa814b2",
   "metadata": {},
   "outputs": [
    {
     "data": {
      "text/plain": [
       "121"
      ]
     },
     "execution_count": 212,
     "metadata": {},
     "output_type": "execute_result"
    }
   ],
   "source": [
    "#Wriet to stage\n",
    "export_result = TOTAL_SPEND_PER_MONTH.write.copy_into_location(\"@DE_EXPORT/campaign2.csv\", file_format_type=\"csv\", header=True, overwrite=True, )\n",
    "export_result[0][0]"
   ]
  },
  {
   "cell_type": "code",
   "execution_count": 211,
   "id": "7bb09938",
   "metadata": {},
   "outputs": [
    {
     "data": {
      "text/plain": [
       "121"
      ]
     },
     "execution_count": 211,
     "metadata": {},
     "output_type": "execute_result"
    }
   ],
   "source": [
    "TOTAL_SPEND_PER_MONTH.count()"
   ]
  },
  {
   "cell_type": "markdown",
   "id": "79e93926",
   "metadata": {},
   "source": [
    "## Automate the process"
   ]
  },
  {
   "cell_type": "markdown",
   "id": "90f7e8e5",
   "metadata": {},
   "source": [
    "### Create Python function"
   ]
  },
  {
   "cell_type": "code",
   "execution_count": 213,
   "id": "0b0eab81",
   "metadata": {},
   "outputs": [],
   "source": [
    "def campaign_spend_data_pipeline(session: Session) -> str:\n",
    "    # DATA TRANSFORMATIONS\n",
    "    # Perform the following actions to transform the data\n",
    "    \n",
    "    # Load the campaign spend data\n",
    "    \n",
    "    snow_df_spend_t = session.table('CAMPAIGN_SPEND')\n",
    "\n",
    "    # Transform the data so we can see total cost per year/month per channel using group_by() and agg() Snowpark DataFrame functions\n",
    "    snow_df_spend_per_channel_t = snow_df_spend_t.group_by(year('DATE'), month('DATE'),'CHANNEL').agg(sum('TOTAL_COST').as_('TOTAL_COST')).\\\n",
    "      with_column_renamed('\"YEAR(DATE)\"',\"YEAR\").with_column_renamed(\"MONTH(DATE)\",\"MONTH\").sort('YEAR','MONTH')\n",
    "\n",
    "    # Transform the data so that each row will represent total cost across all channels per year/month using pivot() and sum() Snowpark DataFrame functions\n",
    "    snow_df_spend_per_month_t = snow_df_spend_per_channel_t.pivot('CHANNEL',['search_engine','social_media','video','email']).sum('TOTAL_COST').sort('YEAR','MONTH')\n",
    "    snow_df_spend_per_month_t = snow_df_spend_per_month_t.select(\n",
    "      col(\"YEAR\"),\n",
    "      col(\"MONTH\"),\n",
    "      col(\"'search_engine'\").as_(\"SEARCH_ENGINE\"),\n",
    "      col(\"'social_media'\").as_(\"SOCIAL_MEDIA\"),\n",
    "      col(\"'video'\").as_(\"VIDEO\"),\n",
    "      col(\"'email'\").as_(\"EMAIL\")\n",
    "    )\n",
    "    # Save transformed data\n",
    "    snow_df_spend_per_month_t.write.mode('overwrite').save_as_table('SPEND_PER_MONTH')\n"
   ]
  },
  {
   "cell_type": "markdown",
   "id": "2b9a2c40",
   "metadata": {},
   "source": [
    "### Register Stored Procedure"
   ]
  },
  {
   "cell_type": "code",
   "execution_count": 214,
   "id": "adbccb92",
   "metadata": {
    "scrolled": true
   },
   "outputs": [
    {
     "data": {
      "text/plain": [
       "<snowflake.snowpark.stored_procedure.StoredProcedure at 0x7fd9fa43d2b0>"
      ]
     },
     "execution_count": 214,
     "metadata": {},
     "output_type": "execute_result"
    }
   ],
   "source": [
    "#Create store procedure\n",
    "\n",
    "session.sproc.register(\n",
    "  func=campaign_spend_data_pipeline,\n",
    "  name='campaign_spend_data_pipeline',\n",
    "  packages=['snowflake-snowpark-python'],\n",
    "  is_permanent=True,\n",
    "  stage_location=\"@DE_SPROC\",\n",
    "  replace=True)\n",
    "\n"
   ]
  },
  {
   "cell_type": "markdown",
   "id": "bcdb2075",
   "metadata": {},
   "source": [
    "### Create Task that uses the SP from above and schedule it to run every 60 minutes"
   ]
  },
  {
   "cell_type": "code",
   "execution_count": 215,
   "id": "556f7b16",
   "metadata": {},
   "outputs": [
    {
     "data": {
      "text/plain": [
       "[Row(status='Task CAMPAIGN_SPEND_DATA_PIPELINE_TASK successfully created.')]"
      ]
     },
     "execution_count": 215,
     "metadata": {},
     "output_type": "execute_result"
    }
   ],
   "source": [
    "#create Task\n",
    "campaign_spend_data_pipeline_task = \"\"\"\n",
    "CREATE OR REPLACE TASK campaign_spend_data_pipeline_task\n",
    "    WAREHOUSE = 'MYWH'\n",
    "    SCHEDULE  = '60 MINUTE'\n",
    "AS\n",
    "    CALL campaign_spend_data_pipeline()\n",
    "\"\"\"\n",
    "session.sql(campaign_spend_data_pipeline_task).collect()\n"
   ]
  },
  {
   "cell_type": "code",
   "execution_count": null,
   "id": "a7fc7c15",
   "metadata": {},
   "outputs": [],
   "source": [
    "#Resume tasks\n",
    "session.sql(\"alter task campaign_spend_data_pipeline_task resume\").collect()"
   ]
  },
  {
   "cell_type": "code",
   "execution_count": null,
   "id": "513a9ae6",
   "metadata": {},
   "outputs": [],
   "source": [
    "#Suspend tasks\n",
    "session.sql(\"alter task campaign_spend_data_pipeline_task suspend\").collect()"
   ]
  },
  {
   "cell_type": "code",
   "execution_count": 245,
   "id": "5355f21e",
   "metadata": {},
   "outputs": [],
   "source": [
    "conn.close()"
   ]
  }
 ],
 "metadata": {
  "kernelspec": {
   "display_name": "Python 3 (ipykernel)",
   "language": "python",
   "name": "python3"
  },
  "language_info": {
   "codemirror_mode": {
    "name": "ipython",
    "version": 3
   },
   "file_extension": ".py",
   "mimetype": "text/x-python",
   "name": "python",
   "nbconvert_exporter": "python",
   "pygments_lexer": "ipython3",
   "version": "3.8.1"
  }
 },
 "nbformat": 4,
 "nbformat_minor": 5
}
